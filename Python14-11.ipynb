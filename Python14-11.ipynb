{
 "cells": [
  {
   "cell_type": "code",
   "execution_count": 1,
   "id": "e74f9ebd",
   "metadata": {},
   "outputs": [
    {
     "name": "stdout",
     "output_type": "stream",
     "text": [
      "Twinkle, twinkle, little star, \n",
      "      \n",
      "How I wonder what you are! \n",
      "      \n",
      "Up above the world so high, \n",
      "      \n",
      "Like a diamond in the sky. \n",
      "      \n",
      "Twinkle, twinkle, little star, \n",
      "      \n",
      "How I wonder what you are!\n"
     ]
    }
   ],
   "source": [
    "#Write a program to print Twinkle-Twinkle Little Star poem in python.\n",
    "print(\"\"\"Twinkle, twinkle, little star, \n",
    "      \\nHow I wonder what you are! \n",
    "      \\nUp above the world so high, \n",
    "      \\nLike a diamond in the sky. \n",
    "      \\nTwinkle, twinkle, little star, \n",
    "      \\nHow I wonder what you are!\"\"\")\n",
    "\n"
   ]
  },
  {
   "cell_type": "code",
   "execution_count": 2,
   "id": "ce81cdf9",
   "metadata": {},
   "outputs": [
    {
     "name": "stdout",
     "output_type": "stream",
     "text": [
      "5\n",
      "10\n",
      "15\n",
      "20\n",
      "25\n",
      "30\n",
      "35\n",
      "40\n",
      "45\n",
      "50\n"
     ]
    }
   ],
   "source": [
    "#Use REPL and print the table of 5 using it.\n",
    "num = 5\n",
    "for i in range(1, 11):  #range function for the reuse of loop till 11\n",
    "   print(num*i)"
   ]
  },
  {
   "cell_type": "code",
   "execution_count": 3,
   "id": "4a3aa8fb",
   "metadata": {},
   "outputs": [
    {
     "name": "stdout",
     "output_type": "stream",
     "text": [
      "Enter number23\n",
      "4.795831523312719\n"
     ]
    }
   ],
   "source": [
    "#Install an external module which is required for solving the below problem  and use it to find the square root of the number.\n",
    "num=float(input(\"Enter number\"))\n",
    "number=num ** (1/2)  #power operator \n",
    "print(number)"
   ]
  },
  {
   "cell_type": "code",
   "execution_count": 4,
   "id": "0e89bb5d",
   "metadata": {},
   "outputs": [
    {
     "name": "stdout",
     "output_type": "stream",
     "text": [
      "Current working directory: C:\\Users\\Vyankatesh Pandit\n"
     ]
    }
   ],
   "source": [
    "#Write a python program to print the contents of a directory using os module. Search online for the function which does that.\n",
    "import os  \n",
    "cwd = os.getcwd() \n",
    "print(\"Current working directory:\", cwd)"
   ]
  },
  {
   "cell_type": "code",
   "execution_count": 5,
   "id": "25fa6307",
   "metadata": {
    "scrolled": true
   },
   "outputs": [
    {
     "name": "stdout",
     "output_type": "stream",
     "text": [
      "Files and directories in ' C:/Users/Vyankatesh Pandit ' :\n",
      "['.bash_history', '.cache', '.conda', '.condarc', '.config', '.continuum', '.dotnet', '.gitconfig', '.idlerc', '.ipynb_checkpoints', '.ipython', '.jupyter', '.librarymanager', '.matplotlib', '.nuget', '.templateengine', '.vscode', '3D Objects', 'anaconda3', 'AppData', 'Application Data', 'Contacts', 'Cookies', 'Desktop', 'Documents', 'Downloads', 'Favorites', 'IntelGraphicsProfiles', 'Links', 'Local Settings', 'Microsoft-Teams-Samples', 'Music', 'My Documents', 'NetHood', 'NTUSER.DAT', 'ntuser.dat.LOG1', 'ntuser.dat.LOG2', 'NTUSER.DAT{403a005d-f1c4-11ec-8792-046c59799d34}.TM.blf', 'NTUSER.DAT{403a005d-f1c4-11ec-8792-046c59799d34}.TMContainer00000000000000000001.regtrans-ms', 'NTUSER.DAT{403a005d-f1c4-11ec-8792-046c59799d34}.TMContainer00000000000000000002.regtrans-ms', 'ntuser.ini', 'NumpyPractice.ipynb', 'OneDrive', 'Pandas.ipynb', 'Pandas2.ipynb', 'Pictures', 'Postman', 'PrintHood', 'Python14-11.ipynb', 'PythonRevision.ipynb', 'Recent', 'Saved Games', 'Searches', 'SendTo', 'source', 'Start Menu', 'Templates', 'test.csv', 'Untitled.ipynb', 'Untitled1.ipynb', 'Untitled2.ipynb', 'Videos']\n"
     ]
    }
   ],
   "source": [
    "#Write a python program to print the contents of a directory using os module. Search online for the function which does that.\n",
    "\n",
    "import os\n",
    "path = \"C:/Users/Vyankatesh Pandit\"\n",
    "dir_list = os.listdir(path)\n",
    "print(\"Files and directories in '\", path, \"' :\")\n",
    "print(dir_list)"
   ]
  },
  {
   "cell_type": "code",
   "execution_count": 6,
   "id": "12c5fca5",
   "metadata": {},
   "outputs": [
    {
     "data": {
      "text/plain": [
       "'\"Vyankatesh\\npandit'"
      ]
     },
     "execution_count": 6,
     "metadata": {},
     "output_type": "execute_result"
    }
   ],
   "source": [
    "#Vyankatesh Pandit\n",
    "\"\"\"\"Vyankatesh\n",
    "pandit\"\"\""
   ]
  },
  {
   "cell_type": "code",
   "execution_count": 7,
   "id": "f54ca61c",
   "metadata": {},
   "outputs": [
    {
     "name": "stdout",
     "output_type": "stream",
     "text": [
      "Enter first number32\n",
      "Enter second number23\n",
      "55.0\n"
     ]
    }
   ],
   "source": [
    "#Write a Python program to add two numbers.\n",
    "num1=float(input(\"Enter first number\"))\n",
    "num2=float(input(\"Enter second number\"))\n",
    "num3=num1+num2\n",
    "print(num3)"
   ]
  },
  {
   "cell_type": "code",
   "execution_count": 8,
   "id": "65f80522",
   "metadata": {},
   "outputs": [
    {
     "name": "stdout",
     "output_type": "stream",
     "text": [
      "Enter first number213\n",
      "Enter second number13\n",
      "Reminder is  5\n"
     ]
    }
   ],
   "source": [
    "#Write a Python program to find the remainder when a number is divided by Z(Integer).\n",
    "num1=int(input(\"Enter first number\"))\n",
    "num2=int(input(\"Enter second number\"))\n",
    "num3=num1%num2\n",
    "print(\"Reminder is \",num3)"
   ]
  },
  {
   "cell_type": "code",
   "execution_count": 9,
   "id": "8d20e591",
   "metadata": {},
   "outputs": [
    {
     "name": "stdout",
     "output_type": "stream",
     "text": [
      "Enter first number13\n",
      "Enter second number23\n",
      "<class '__main__.data'>\n",
      "<class 'int'>\n",
      "<class 'float'>\n",
      "<class 'tuple'>\n"
     ]
    }
   ],
   "source": [
    "#Check the type of the variable assigned using the input() function.\n",
    "num1=int(input(\"Enter first number\"))\n",
    "num2=float(input(\"Enter second number\"))\n",
    "num4=(1,2,3,4)\n",
    "class data:\n",
    "    pass\n",
    "d=data()\n",
    "print(type(d))\n",
    "print(type(num1))\n",
    "print(type(num2))\n",
    "print(type(num4))"
   ]
  },
  {
   "cell_type": "code",
   "execution_count": 11,
   "id": "eb382895",
   "metadata": {},
   "outputs": [
    {
     "name": "stdout",
     "output_type": "stream",
     "text": [
      "B is greater than A\n"
     ]
    }
   ],
   "source": [
    "#Use a comparison operator to find out whether a given variable a is greater than b or not. (Take a=34 and b=80)\n",
    "a=34\n",
    "b=80\n",
    "if a<b:\n",
    "    print(\"B is greater than A\")\n",
    "elif b>a:\n",
    "    print(\"A is greater than B\")\n",
    "else:\n",
    "    print(\"Both are equal\")"
   ]
  },
  {
   "cell_type": "code",
   "execution_count": null,
   "id": "5341b3d0",
   "metadata": {},
   "outputs": [],
   "source": []
  }
 ],
 "metadata": {
  "kernelspec": {
   "display_name": "Python 3 (ipykernel)",
   "language": "python",
   "name": "python3"
  },
  "language_info": {
   "codemirror_mode": {
    "name": "ipython",
    "version": 3
   },
   "file_extension": ".py",
   "mimetype": "text/x-python",
   "name": "python",
   "nbconvert_exporter": "python",
   "pygments_lexer": "ipython3",
   "version": "3.9.13"
  }
 },
 "nbformat": 4,
 "nbformat_minor": 5
}
